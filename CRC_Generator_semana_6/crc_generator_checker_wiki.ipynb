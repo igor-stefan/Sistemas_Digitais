{
  "nbformat": 4,
  "nbformat_minor": 0,
  "metadata": {
    "colab": {
      "name": "crc_generator_checker_wiki.ipynb",
      "provenance": [],
      "collapsed_sections": []
    },
    "kernelspec": {
      "name": "python3",
      "display_name": "Python 3"
    }
  },
  "cells": [
    {
      "cell_type": "code",
      "metadata": {
        "id": "MGEVYZJbyB9M"
      },
      "source": [
        "def crc_remainder(input_bitstring, polynomial_bitstring, initial_filler):\n",
        "    \"\"\"Calculate the CRC remainder of a string of bits using a chosen polynomial.\n",
        "    initial_filler should be '1' or '0'.\n",
        "    \"\"\"\n",
        "    polynomial_bitstring = polynomial_bitstring.lstrip('0')\n",
        "    len_input = len(input_bitstring)\n",
        "    initial_padding = initial_filler * (len(polynomial_bitstring) - 1)\n",
        "    input_padded_array = list(input_bitstring + initial_padding)\n",
        "    while '1' in input_padded_array[:len_input]:\n",
        "        cur_shift = input_padded_array.index('1')\n",
        "        for i in range(len(polynomial_bitstring)):\n",
        "            input_padded_array[cur_shift + i] = str(int(polynomial_bitstring[i] != input_padded_array[cur_shift + i]))\n",
        "    return ''.join(input_padded_array)[len_input:]\n",
        " \n",
        "def crc_check(input_bitstring, polynomial_bitstring, check_value):\n",
        "    \"\"\"Calculate the CRC check of a string of bits using a chosen polynomial.\"\"\"\n",
        "    polynomial_bitstring = polynomial_bitstring.lstrip('0')\n",
        "    len_input = len(input_bitstring)\n",
        "    initial_padding = check_value\n",
        "    input_padded_array = list(input_bitstring + initial_padding)\n",
        "    while '1' in input_padded_array[:len_input]:\n",
        "        cur_shift = input_padded_array.index('1')\n",
        "        for i in range(len(polynomial_bitstring)):\n",
        "            input_padded_array[cur_shift + i] = str(int(polynomial_bitstring[i] != input_padded_array[cur_shift + i]))\n",
        "    return ('1' not in ''.join(input_padded_array)[len_input:])"
      ],
      "execution_count": null,
      "outputs": []
    },
    {
      "cell_type": "code",
      "metadata": {
        "id": "Mc4o4u8ryKI1",
        "colab": {
          "base_uri": "https://localhost:8080/",
          "height": 451
        },
        "outputId": "f31f7bc3-744d-4c9a-9630-89e07ec32dc5"
      },
      "source": [
        "a = [\"01111111001111010000000000000000\", \"00111111001111010000000000000000\", \"11101100101110101001001010101000\",\n",
        "      \"01100110001110101001001010100101\", \"11111110001110101001001111101010\"]\n",
        "cont = 1\n",
        "for i in a:\n",
        "  print(\"Teste\", cont)\n",
        "  binary_string1 = i\n",
        "  binary_string2 = crc_remainder(i,'11000000000000101','0')\n",
        "  print(crc_check(i,'11000000000000101', binary_string2))\n",
        "  decimal_representation1 = int(binary_string1, 2)\n",
        "  decimal_representation2 = int(binary_string2, 2)\n",
        "  hexadecimal_string1 = hex(decimal_representation1)\n",
        "  hexadecimal_string2 = hex(decimal_representation2)\n",
        "  print('Data =', hexadecimal_string1.upper())\n",
        "  print('CRC =', hexadecimal_string2.upper(), '\\n')\n",
        "  cont += 1"
      ],
      "execution_count": null,
      "outputs": [
        {
          "output_type": "stream",
          "text": [
            "Teste 1\n",
            "True\n",
            "Data = 0X7F3D0000\n",
            "CRC = 0XF30 \n",
            "\n",
            "Teste 2\n",
            "True\n",
            "Data = 0X3F3D0000\n",
            "CRC = 0X8F2D \n",
            "\n",
            "Teste 3\n",
            "True\n",
            "Data = 0XECBA92A8\n",
            "CRC = 0X969F \n",
            "\n",
            "Teste 4\n",
            "True\n",
            "Data = 0X663A92A5\n",
            "CRC = 0X948E \n",
            "\n",
            "Teste 5\n",
            "True\n",
            "Data = 0XFE3A93EA\n",
            "CRC = 0X7316 \n",
            "\n"
          ],
          "name": "stdout"
        }
      ]
    },
    {
      "cell_type": "markdown",
      "metadata": {
        "id": "CHdh94tM2-9u"
      },
      "source": [
        "#Retirados do console do VHDL no EDA Playground\n",
        "<p>Teste 1 OK! --> Data = 54BA92A5 + CRC = 7684 </p>\n",
        "<p>Teste 2 OK! --> Data = 4CBA92A6 + CRC = 168B </p>\n",
        "<p>Teste 3 OK! --> Data = ECBA92A8 + CRC = 969F </p>\n",
        "<p>Teste 4 OK! --> Data = 663A92A5 + CRC = 948E </p>\n",
        "<p>Teste 5 OK! --> Data = FE3A93EA + CRC = 7316 </p>"
      ]
    }
  ]
}